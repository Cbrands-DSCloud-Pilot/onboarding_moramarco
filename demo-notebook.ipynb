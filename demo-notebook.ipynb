{
 "cells": [
  {
   "cell_type": "markdown",
   "metadata": {},
   "source": [
    "In this exploration we analyze the demographics and movie preferences of our customer base.  Our larger objective is to connect customers to relevant content in our inventory.  \n",
    "\n",
    "We may be interested in segmenting our population on any number of features, to enable the use of different strategies to promote content specifically tailored to each segment. Although we will not run a segmentation analysis in this demo, we can begin the process by quickly looking if there are any obvious groups of users based on their demographics."
   ]
  },
  {
   "cell_type": "code",
   "execution_count": null,
   "metadata": {
    "_datascience": {}
   },
   "outputs": [],
   "source": [
    "# Import standard packages\n",
    "\n",
    "from IPython.display import clear_output\n",
    "import warnings\n",
    "warnings.filterwarnings('ignore')\n",
    "\n",
    "import os\n",
    "import pandas as pd\n",
    "import numpy as np\n",
    "from scipy.spatial.distance import pdist, cosine\n",
    "\n",
    "!pip install plotly\n",
    "from plotly import tools\n",
    "import plotly.graph_objs as go\n",
    "from plotly.tools import FigureFactory as FF\n",
    "import plotly.plotly as py\n",
    "tools.set_credentials_file(username='DSOnboardingDemos', api_key='2ETR1b8sWOCWoVoQvpSy')\n",
    "tools.set_config_file(world_readable=True, sharing='public')\n",
    "\n",
    "clear_output()"
   ]
  },
  {
   "cell_type": "code",
   "execution_count": null,
   "metadata": {
    "_datascience": {}
   },
   "outputs": [],
   "source": [
    "#Install a package, %%capture suppresses installation messages\n",
    "!sudo apt-get update\n",
    "!sudo apt-get -y install libsqlite3-dev;\n",
    "!pip install pyzipcode;\n",
    "\n",
    "import featurize_helpers.functions as fhf\n",
    "import plotting_helpers.functions as phf\n",
    "\n",
    "clear_output()"
   ]
  },
  {
   "cell_type": "markdown",
   "metadata": {
    "_datascience": {}
   },
   "source": [
    "# About the Data"
   ]
  },
  {
   "cell_type": "code",
   "execution_count": null,
   "metadata": {
    "_datascience": {},
    "collapsed": true
   },
   "outputs": [],
   "source": [
    "# Load the data\n",
    "data_dir = 'data/'\n",
    "\n",
    "users = pd.read_csv(data_dir + 'u.user', sep = '|', names = ['user_id', 'age', 'sex', 'occupation', 'zip_code'],\n",
    "                    encoding = 'latin-1')\n",
    "\n",
    "ratings = pd.read_csv(data_dir + 'u.data', sep = '\\t', names = ['user_id', 'movie_id', 'rating', 'unix_timestamp'],\n",
    "                    encoding = 'latin-1')\n",
    "\n",
    "items = pd.read_csv(data_dir + 'u.item', sep = '|', \n",
    "                    names = ['movie id', 'movie title' ,'release date','video release date', \n",
    "                             'IMDb URL', 'unknown', 'Action', 'Adventure','Animation', \n",
    "                             'Children\\'s', 'Comedy', 'Crime', 'Documentary', 'Drama', 'Fantasy',\n",
    "                             'Film-Noir', 'Horror', 'Musical', 'Mystery', 'Romance', 'Sci-Fi', \n",
    "                             'Thriller', 'War', 'Western'],\n",
    "                    encoding = 'latin-1')\n",
    "\n",
    "# Create Features\n",
    "users['state'] = users.apply(lambda row: fhf.get_zip_data(row.zip_code, 'state'), axis = 1)\n",
    "\n",
    "user_features, user_demographics, normed_user_movie_ratings = fhf.get_user_features(users, items, ratings)\n",
    "user_features['zip_code'] = users['zip_code']\n",
    "item_features, item_names, item_ids = fhf.get_item_features(items)"
   ]
  },
  {
   "cell_type": "code",
   "execution_count": null,
   "metadata": {
    "_datascience": {},
    "collapsed": true
   },
   "outputs": [],
   "source": [
    "pd.set_option('display.max_columns', 5000)\n",
    "user_features.head()"
   ]
  },
  {
   "cell_type": "code",
   "execution_count": null,
   "metadata": {
    "_datascience": {},
    "collapsed": true
   },
   "outputs": [],
   "source": [
    "item_features.head()"
   ]
  },
  {
   "cell_type": "markdown",
   "metadata": {
    "_datascience": {
     "keep": false,
     "summary": false
    }
   },
   "source": [
    "# Exploratory Analysis"
   ]
  },
  {
   "cell_type": "markdown",
   "metadata": {
    "_datascience": {
     "keep": false,
     "summary": false
    }
   },
   "source": [
    "## User Demographics"
   ]
  },
  {
   "cell_type": "code",
   "execution_count": null,
   "metadata": {
    "_datascience": {},
    "collapsed": true
   },
   "outputs": [],
   "source": [
    "traces, layout = phf.user_scatter_plot(user_features)\n",
    "fig = go.Figure(data=traces, layout=layout)\n",
    "py.iplot(fig, filename='user_features')"
   ]
  },
  {
   "cell_type": "code",
   "execution_count": null,
   "metadata": {
    "_datascience": {
     "keep": false,
     "summary": false
    },
    "collapsed": true,
    "scrolled": false
   },
   "outputs": [],
   "source": [
    "trace, layout = phf.user_job_stacked_bar(user_features)\n",
    "fig = go.Figure(data=trace, layout=layout)\n",
    "py.iplot(fig, filename='user_features2') "
   ]
  },
  {
   "cell_type": "markdown",
   "metadata": {
    "_datascience": {
     "keep": false,
     "summary": false
    }
   },
   "source": [
    "### Results summary\n",
    "\n",
    "1.  Fill in an insight in this markup cell\n",
    "\n",
    "2.  Fill in another insight"
   ]
  },
  {
   "cell_type": "markdown",
   "metadata": {
    "_datascience": {
     "keep": true
    }
   },
   "source": [
    "# Comparison of inventory volume to average rating for each genre "
   ]
  },
  {
   "cell_type": "code",
   "execution_count": null,
   "metadata": {},
   "outputs": [],
   "source": [
    "trace0, trace1, layout = phf.inventory_hbar(user_features, item_features)\n",
    "\n",
    "# Creating two subplots, one for each of the two bar plots defined above\n",
    "fig = tools.make_subplots(rows=1, cols=2, specs=[[{}, {}]], shared_xaxes=True,\n",
    "                          shared_yaxes=False, vertical_spacing=0.001, print_grid=False)\n",
    "\n",
    "# Add the bar plots to the figure\n",
    "fig.append_trace(trace0, 1, 1)\n",
    "fig.append_trace(trace1, 1, 2)\n",
    "\n",
    "fig['layout'].update(layout)\n",
    "py.iplot(fig, filename='movie_genres')"
   ]
  },
  {
   "cell_type": "markdown",
   "metadata": {
    "_datascience": {
     "keep": true
    }
   },
   "source": [
    "### Results\n",
    "\n",
    "1.  Drama and Comedy make up most of our library.\n",
    "\n",
    "2.  Severely lacking in fantasy, animation, westerns, and film-noir.\n",
    "\n",
    "3.  Users who watched Film-Noir, War, and Documentary movies rated them very highly, but Drama and Comedy movies are lower quality.\n",
    "        a. We should consider getting more Film-Noir, War, and Documentary movies.\n",
    "        b. We should consider improving our Drama and Comedy selections."
   ]
  },
  {
   "cell_type": "markdown",
   "metadata": {
    "_datascience": {
     "keep": true,
     "summary": true
    }
   },
   "source": [
    "# Overlap in movie interests"
   ]
  },
  {
   "cell_type": "code",
   "execution_count": null,
   "metadata": {
    "_datascience": {},
    "collapsed": true
   },
   "outputs": [],
   "source": [
    "from matplotlib import pyplot as plt\n",
    "%matplotlib inline"
   ]
  },
  {
   "cell_type": "code",
   "execution_count": null,
   "metadata": {},
   "outputs": [],
   "source": [
    "phf.conditional_interest(user_features, item_features)"
   ]
  },
  {
   "cell_type": "markdown",
   "metadata": {
    "_datascience": {
     "keep": true,
     "summary": true
    }
   },
   "source": [
    "### Results\n",
    "\n",
    "1.  People who like Children's movies also like animation, but not vice versa.\n",
    "\n",
    "2.  Fantasy is very polarized.  If people aren't in the group who rates it 4+ stars, they rate it very low across the board.\n",
    "\n",
    "3.  War and Film-noir are highly rated across all groups.\n",
    "\n",
    "4.  There is significant overlap in interest between Horror and Thriller."
   ]
  },
  {
   "cell_type": "code",
   "execution_count": null,
   "metadata": {
    "collapsed": true
   },
   "outputs": [],
   "source": []
  }
 ],
 "metadata": {
  "_datascience": {
   "analyst": "Harry",
   "notebookId": 13,
   "notebook_path": "Onboarding/Demos/onboarding-demo-insights.ipynb",
   "post_id": "AVndIBsdcIjrRax4nR6a",
   "tags": "onboarding"
  },
  "anaconda-cloud": {},
  "kernelspec": {
   "display_name": "Python 2",
   "language": "python",
   "name": "python2"
  },
  "language_info": {
   "codemirror_mode": {
    "name": "ipython",
    "version": 2
   },
   "file_extension": ".py",
   "mimetype": "text/x-python",
   "name": "python",
   "nbconvert_exporter": "python",
   "pygments_lexer": "ipython2",
   "version": "2.7.12"
  }
 },
 "nbformat": 4,
 "nbformat_minor": 2
}
